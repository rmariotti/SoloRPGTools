{
 "cells": [
  {
   "cell_type": "code",
   "execution_count": 3,
   "metadata": {
    "pycharm": {
     "name": "#%%\n"
    }
   },
   "outputs": [],
   "source": [
    "import sys\n",
    "sys.path.append('/home/gandalf/Documenti/Progetti/SoloRPGTools/src')"
   ]
  },
  {
   "cell_type": "code",
   "execution_count": 4,
   "metadata": {},
   "outputs": [
    {
     "data": {
      "text/html": [
       "<style>.unconfined {\n",
       "    max-width: 100% !important;\n",
       "}\n",
       "\n",
       "table.charcter_sheet, .character_sheet tr, .character_sheet th, .character_sheet td {\n",
       "    vertical-align: top;\n",
       "    white-space: normal;\n",
       "}\n",
       "\n",
       "table.character_data, .character_data tr, .character_data th, .character_data td {\n",
       "    white-space: nowrap;\n",
       "}\n",
       "\n",
       ".concept td, .concept th {\n",
       "    white-space: pre-line;\n",
       "}\n",
       "\n",
       "td.character_pic_cell {\n",
       "    vertical-align: middle;\n",
       "}\n",
       "\n",
       ".character_pic_container img {\n",
       "    table-layout: fixed;\n",
       "    max-width: 100%;\n",
       "    height: auto;\n",
       "}\n",
       "\n",
       ".character_pic_container {\n",
       "    width: 150px;\n",
       "    float: left;\n",
       "}\n",
       "\n",
       ".tracker_icons img {\n",
       "    display: inline-block;\n",
       "    table-layout: fixed;\n",
       "    max-width: 100%;\n",
       "    height: auto;\n",
       "    white-space: nowrap;\n",
       "}\n",
       "\n",
       ".tracker_icons {\n",
       "    font-size: 0px;\n",
       "    width: 16px;\n",
       "    float: left;\n",
       "}\n",
       "\n",
       "table.traits, .traits th, .traits td, .traits tr {\n",
       "    vertical-align: top;\n",
       "    text-align: left;\n",
       "}\n",
       "\n",
       ".traits td {\n",
       "    text-align: right;\n",
       "}\n",
       "\n",
       ".edges_hindrances td, .edges_hindrances th {\n",
       "    width: 50%;\n",
       "}\n",
       "\n"
      ],
      "text/plain": [
       "<IPython.core.display.HTML object>"
      ]
     },
     "metadata": {},
     "output_type": "display_data"
    },
    {
     "data": {
      "text/html": [
       "<table class=\"character_sheet\"><tr><td><table class=\"basic_info\"><tr><td class=\"character_pic_cell\"><div class=\"character_pic_container\"><img class=\"character_pic\" src=\"assets/player_character/character_picture.jpg\"></div></td><td><table class=\"character_data\"><tr><th>Name</th><td>Spike Spiegel</td></tr><tr><th>Race</th><td>Human</td></tr><tr><th>Wounds</th><td><div class=\"tracker_icons\"><img src=\"assets/icons/wound.png\"><img src=\"assets/icons/wound.png\"></div></td></tr><tr><th>Bennies</th><td><div class=\"tracker_icons\"><img src=\"assets/icons/benny.png\"><img src=\"assets/icons/benny.png\"><img src=\"assets/icons/benny.png\"></div></td></tr><tr><th>Pace</th><td>8</td></tr><tr><th>Parry</th><td>10</td></tr><tr><th>Toughness</th><td>6</td></tr></table></td><td><table class=\"concept\"><tr><th colspan=\"2\">Concept</th></tr><tr><td colspan=\"2\">Spike is a former member of the criminal Red Dragon Syndicate, who left by faking his death after falling in love with a woman called Julia. \n",
       "\n",
       "He is first introduced as the partner of Jet Black, captain of the spaceship Bebop: the two are legalized bounty hunters pursuing criminals across the populated planets and moons of the solar system.\n",
       "\n",
       " During his adventures on board the Bebop, he is drawn back into a bitter feud with Vicious, a rival from the Syndicate who seeks to kill him.</td></tr></table></td></tr></table></td></tr><tr><td><table class=\"traits\"><tr><td><table><tr><th>Strength</th><td>d6</td></tr><tr><th>Agility</th><td>d10</td></tr><tr><th>Vigor</th><td>d8</td></tr><tr><th>Spirit</th><td>d8</td></tr><tr><th>Smarts</th><td>d6</td></tr></table></td><td><table><tr><th>Climbing</th><td>d6</td></tr><tr><th>Driving</th><td>d6</td></tr><tr><th>Fighting</th><td>d12</td></tr><tr><th>Gambling</th><td>d8</td></tr><tr><th>Guts</th><td>d8</td></tr></table></td><td><table><tr><th>Healing</th><td>d4</td></tr><tr><th>Intimidation</th><td>d6</td></tr><tr><th>Investigation</th><td>d6</td></tr><tr><th>Notice</th><td>d8</td></tr><tr><th>Persuasion</th><td>d6</td></tr></table></td><td><table><tr><th>Piloting</th><td>d10</td></tr><tr><th>Repair</th><td>d6</td></tr><tr><th>Shooting</th><td>d10</td></tr><tr><th>Stealth</th><td>d8</td></tr><tr><th>Streetwise</th><td>d8</td></tr></table></td><td><table><tr><th>Swimming</th><td>d6</td></tr><tr><th>Taunt</th><td>d10</td></tr><tr><th>Throwing</th><td>d6</td></tr><tr><th>Tracking</th><td>d6</td></tr></table></td></tr></table></td></tr><tr><td><table class=\"edges_hindrances\"><td><table class=\"edges\"><tr><th colspan=\"2\">Charismatic</th></tr><tr><td colspan=\"2\">\n",
       "                   Your hero is likable for some reason. She  may be trustworthy or kind, or might just  exude confidence and goodwill.\n",
       "                   You may Reroll immediately  after failing a Persuasion roll  that’s not a Critical Failure</td></tr><tr><th colspan=\"2\">Quick</th></tr><tr><td colspan=\"2\">\n",
       "                  Quick characters have lightning-fast reflexes  and a cool head.\n",
       "                  Whenever you are dealt an  Action Card of Five or lower, you may  discard it and draw again until you  get a card higher than Five.\n",
       "                  Characters with both the Level  Headed and Quick Edge\n",
       "                  </td></tr><tr><th colspan=\"2\">Sweep</th></tr><tr><td colspan=\"2\">\n",
       "                  Sweep allows a character to make a single  Fighting attack and apply it against all targets  in his weapon’s Reach at a -2 penalty (friends  and foes alike).\n",
       "                  Resolve damage separately  for each enemy that’s hit.  A fighter may only perform a Sweep on\n",
       "                  </td></tr></table></td><td><table class=\"hindrances\"><tr><th colspan=\"2\">Poverty</th></tr><tr><td colspan=\"2\">\n",
       "                       Half starting funds and the character is always broke.\n",
       "                       </td></tr><tr><th colspan=\"2\">Death Wish</th></tr><tr><td colspan=\"2\">\n",
       "                       The hero wants to die after or while completing some epic task.\n",
       "                       </td></tr></table></td></table></td></tr>"
      ],
      "text/plain": [
       "<IPython.core.display.HTML object>"
      ]
     },
     "metadata": {},
     "output_type": "display_data"
    }
   ],
   "source": [
    "%run main.py"
   ]
  },
  {
   "cell_type": "code",
   "execution_count": null,
   "metadata": {},
   "outputs": [],
   "source": []
  }
 ],
 "metadata": {
  "kernelspec": {
   "display_name": "PyCharm (SoloRPGTools)",
   "language": "python",
   "name": "pycharm-fd039ea8"
  },
  "language_info": {
   "codemirror_mode": {
    "name": "ipython",
    "version": 3
   },
   "file_extension": ".py",
   "mimetype": "text/x-python",
   "name": "python",
   "nbconvert_exporter": "python",
   "pygments_lexer": "ipython3",
   "version": "3.7.3"
  }
 },
 "nbformat": 4,
 "nbformat_minor": 1
}
